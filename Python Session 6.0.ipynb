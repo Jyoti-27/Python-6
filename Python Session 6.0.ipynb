{
 "cells": [
  {
   "cell_type": "markdown",
   "metadata": {},
   "source": [
    "## Let's assume that there is criteria to unlock the certification\n",
    "- They should have the 70 % of the attendance.\n",
    "- Their score should be more than 300.\n",
    "- If they meet both the criteria then they get merit certificate\n",
    "- Otherwise they get participation certificate."
   ]
  },
  {
   "cell_type": "code",
   "execution_count": null,
   "metadata": {},
   "outputs": [],
   "source": [
    "# First create if else block just interms of the attendance.\n",
    "Attendance = input(int\"Attendance:\")\n"
   ]
  },
  {
   "cell_type": "code",
   "execution_count": 15,
   "metadata": {},
   "outputs": [
    {
     "name": "stdout",
     "output_type": "stream",
     "text": [
      "Attendance:95\n",
      "Scores:700\n",
      "You will get Merit Certificate\n",
      "Eligible for paticipation certificate\n"
     ]
    }
   ],
   "source": [
    "Attendance = int(input(\"Attendance:\"))\n",
    "Scores =  int(input(\"Scores:\"))\n",
    "if(Attendance > 70 and scores > 300):\n",
    "    print(\"You will get Merit Certificate\")\n",
    "    print(\"Eligible for paticipation certificate\")\n",
    "else:\n",
    "    print(\"You will not get Merit Certificate\")\n",
    "    print(\" You are not Eligible for paticipation certificate\")\n"
   ]
  },
  {
   "cell_type": "code",
   "execution_count": 16,
   "metadata": {},
   "outputs": [
    {
     "ename": "SyntaxError",
     "evalue": "invalid syntax (<ipython-input-16-b2709e270bff>, line 1)",
     "output_type": "error",
     "traceback": [
      "\u001b[1;36m  File \u001b[1;32m\"<ipython-input-16-b2709e270bff>\"\u001b[1;36m, line \u001b[1;32m1\u001b[0m\n\u001b[1;33m    if test expression:\u001b[0m\n\u001b[1;37m                     ^\u001b[0m\n\u001b[1;31mSyntaxError\u001b[0m\u001b[1;31m:\u001b[0m invalid syntax\n"
     ]
    }
   ],
   "source": [
    "if test expression:\n",
    "    Body of if\n",
    "    elif test expression:\n",
    "    Body of elif\n",
    "    else:\n",
    "        Body of else"
   ]
  },
  {
   "cell_type": "code",
   "execution_count": null,
   "metadata": {},
   "outputs": [],
   "source": [
    "attendancePercentage = 80\n",
    "gradePoints = 290\n",
    "if attendancePercentage >= 75 and gradePoints >= 300:\n",
    "    print(\"Attendance and grade requirement for Merit certificate met\")\n",
    "else: \n",
    "    print(\"Either attendance of grade (or both) insufficient\")\n",
    "    print(\"Participation certificate only\")\n"
   ]
  },
  {
   "cell_type": "code",
   "execution_count": 38,
   "metadata": {},
   "outputs": [
    {
     "name": "stdout",
     "output_type": "stream",
     "text": [
      "Attendance requirement for Merit certificate met\n",
      "Grade Requirement for Merit Certificate met\n"
     ]
    }
   ],
   "source": [
    "attendancePercentage = 80\n",
    "gradePoints = 320\n",
    "if attendancePercentage < 75:\n",
    "    print(\"Attendance requirement for Merit certificate not met\")\n",
    "    print(\"Participation Certificate only\")\n",
    "elif gradePoints < 300:\n",
    "    print(\"Attendance requirement for Merit certificate met\")\n",
    "    print(\"But insufficient grade\")\n",
    "    print(\"Participation Certificate only\")\n",
    "else:\n",
    "    print(\"Attendance requirement for Merit certificate met\")\n",
    "    print(\"Grade Requirement for Merit Certificate met\")\n"
   ]
  },
  {
   "cell_type": "code",
   "execution_count": 36,
   "metadata": {},
   "outputs": [],
   "source": [
    "list1 = ['a','b', 'c']\n",
    "list2 = ['abc', 'def', 'd','hello']"
   ]
  },
  {
   "cell_type": "markdown",
   "metadata": {},
   "source": [
    "## Using Membership Test\n",
    "- in and not in"
   ]
  },
  {
   "cell_type": "code",
   "execution_count": 31,
   "metadata": {},
   "outputs": [
    {
     "name": "stdout",
     "output_type": "stream",
     "text": [
      "great\n"
     ]
    }
   ],
   "source": [
    "list1 = ['a','b', 'c']\n",
    "if 'c' in list1:\n",
    "    print(\"great\")\n",
    "else:\n",
    "    print(\"Not great\")"
   ]
  },
  {
   "cell_type": "code",
   "execution_count": 41,
   "metadata": {},
   "outputs": [
    {
     "name": "stdout",
     "output_type": "stream",
     "text": [
      "Not great\n"
     ]
    }
   ],
   "source": [
    "list1 = ['a','b', 'c']\n",
    "if 'c' not in list1:\n",
    "    print(\"great\")\n",
    "else:\n",
    "    print(\"Not great\")"
   ]
  },
  {
   "cell_type": "code",
   "execution_count": null,
   "metadata": {},
   "outputs": [],
   "source": []
  }
 ],
 "metadata": {
  "kernelspec": {
   "display_name": "Python 3",
   "language": "python",
   "name": "python3"
  },
  "language_info": {
   "codemirror_mode": {
    "name": "ipython",
    "version": 3
   },
   "file_extension": ".py",
   "mimetype": "text/x-python",
   "name": "python",
   "nbconvert_exporter": "python",
   "pygments_lexer": "ipython3",
   "version": "3.7.6"
  }
 },
 "nbformat": 4,
 "nbformat_minor": 4
}

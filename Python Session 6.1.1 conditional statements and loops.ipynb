{
 "cells": [
  {
   "cell_type": "code",
   "execution_count": 1,
   "metadata": {},
   "outputs": [
    {
     "name": "stdout",
     "output_type": "stream",
     "text": [
      "you are not eligible\n"
     ]
    }
   ],
   "source": [
    "# create a variable salary and assign a value to it\n",
    "salary = 15000\n",
    "if salary >= 35000:\n",
    "    print('you are eligible for loan')\n",
    "else:\n",
    "    print('you are not eligible')\n"
   ]
  },
  {
   "cell_type": "code",
   "execution_count": 1,
   "metadata": {},
   "outputs": [
    {
     "ename": "IndentationError",
     "evalue": "unexpected indent (<ipython-input-1-43e62f8178d6>, line 3)",
     "output_type": "error",
     "traceback": [
      "\u001b[1;36m  File \u001b[1;32m\"<ipython-input-1-43e62f8178d6>\"\u001b[1;36m, line \u001b[1;32m3\u001b[0m\n\u001b[1;33m    - they should have 70% of attendance(crtieria 1)\u001b[0m\n\u001b[1;37m    ^\u001b[0m\n\u001b[1;31mIndentationError\u001b[0m\u001b[1;31m:\u001b[0m unexpected indent\n"
     ]
    }
   ],
   "source": [
    "# lets assume that there is a criteria to unlocl the certifications\n",
    "- rules\n",
    "   - they should have 70% of attendance(crtieria 1)\n",
    "   - score >300(criteria 2)\n",
    "   - if they meet both the criteria then they get merit certificate \n",
    "   - otherwise they  get participation certificate"
   ]
  },
  {
   "cell_type": "code",
   "execution_count": 2,
   "metadata": {},
   "outputs": [
    {
     "name": "stdout",
     "output_type": "stream",
     "text": [
      "enter the attendance:75\n",
      "enter the score:450\n",
      " congrats!! you fullfill both the criteria to unlock the merit certification\n"
     ]
    }
   ],
   "source": [
    "# create if else block just in terms of the attendance\n",
    "attendance = int(input('enter the attendance:'))\n",
    "score = int(input('enter the score:'))\n",
    "if attendance >= 70 and score > 300:\n",
    "    print(' congrats!! you fullfill both the criteria to unlock the merit certification')\n",
    "else:\n",
    "    print('your attendance and score is low for merit ceritificate, please collect your participation certificate')\n"
   ]
  },
  {
   "cell_type": "code",
   "execution_count": 3,
   "metadata": {},
   "outputs": [
    {
     "name": "stdout",
     "output_type": "stream",
     "text": [
      "attendance does not fullfill one of the criteria for merit certificate\n",
      "you are eligible for participation certificate\n"
     ]
    }
   ],
   "source": [
    "# if blocks only\n",
    "attendance = 70\n",
    "if attendance < 75:\n",
    "    print(\"attendance does not fullfill one of the criteria for merit certificate\")\n",
    "    print(\"you are eligible for participation certificate\")"
   ]
  },
  {
   "cell_type": "code",
   "execution_count": 7,
   "metadata": {},
   "outputs": [],
   "source": [
    "attendance = 80\n",
    "if attendance < 75:\n",
    "    print(\"Great!! you fullfilled one of the criteria for merit certificate\")\n",
    "    print(\"you are eligible for participation certificate\")"
   ]
  },
  {
   "cell_type": "code",
   "execution_count": 8,
   "metadata": {},
   "outputs": [
    {
     "name": "stdout",
     "output_type": "stream",
     "text": [
      "enter the number:56\n",
      "56 is an even number\n"
     ]
    }
   ],
   "source": [
    "# check the number is even or odd\n",
    "num = int(input('enter the number:'))\n",
    "if num % 2 == 0:\n",
    "    print( num ,'is an even number')\n",
    "else:  \n",
    "    print( num , 'is an odd number') \n",
    "    "
   ]
  },
  {
   "cell_type": "markdown",
   "metadata": {},
   "source": [
    "# else if ladder\n",
    "\n",
    "## if test expression:\n",
    "\n",
    "      Body of if\n",
    "     \n",
    "## elif test expression:\n",
    "\n",
    "     Body of elif\n",
    "    \n",
    "## else: \n",
    "\n",
    "     Body of else\n"
   ]
  },
  {
   "cell_type": "markdown",
   "metadata": {},
   "source": [
    "# using membership test\n",
    "- in and not in"
   ]
  },
  {
   "cell_type": "code",
   "execution_count": 9,
   "metadata": {},
   "outputs": [],
   "source": [
    "list1 = ['a','b','c']\n",
    "list2 = ['abc','def','d','hello']"
   ]
  },
  {
   "cell_type": "code",
   "execution_count": 10,
   "metadata": {},
   "outputs": [
    {
     "name": "stdout",
     "output_type": "stream",
     "text": [
      "great\n"
     ]
    }
   ],
   "source": [
    "if 'c' in list1:\n",
    "    print('great')\n",
    "else:\n",
    "    print('not great')"
   ]
  },
  {
   "cell_type": "code",
   "execution_count": 11,
   "metadata": {},
   "outputs": [
    {
     "name": "stdout",
     "output_type": "stream",
     "text": [
      "inside else\n"
     ]
    }
   ],
   "source": [
    "if 'c' not in list1:\n",
    "        print('great')\n",
    "else:\n",
    "    print('inside else')\n",
    "    "
   ]
  },
  {
   "cell_type": "markdown",
   "metadata": {},
   "source": [
    "##### More on blocks\n",
    "* blocks start below a line ending in :\n",
    "* all lines in a block are indented (by 4 spaces)\n",
    "* Nested blocks --> nested indenting\n",
    "* End of block --> unindent\n",
    "\n"
   ]
  },
  {
   "cell_type": "code",
   "execution_count": 14,
   "metadata": {},
   "outputs": [
    {
     "name": "stdout",
     "output_type": "stream",
     "text": [
      "enter the marks:35\n",
      "fail F\n"
     ]
    }
   ],
   "source": [
    "marks = int(input('enter the marks:'))\n",
    "if marks < 40:\n",
    "    status = 'fail'\n",
    "    lettergrade = 'F'\n",
    "else:\n",
    "     status = 'pass'\n",
    "     if marks < 50:\n",
    "        lettergrade = 'D'\n",
    "     elif marks < 60:\n",
    "        lettergrade = 'C'\n",
    "     elif marks < 75:\n",
    "        lettergrade = 'B'   \n",
    "     elif marks < 80:\n",
    "        lettergrade = 'A'   \n",
    "     elif marks < 90:\n",
    "        lettergrade = 'A+'   \n",
    "        \n",
    "print(status,lettergrade)        "
   ]
  },
  {
   "cell_type": "markdown",
   "metadata": {},
   "source": [
    "# Nested if"
   ]
  },
  {
   "cell_type": "code",
   "execution_count": 15,
   "metadata": {},
   "outputs": [
    {
     "name": "stdout",
     "output_type": "stream",
     "text": [
      "enter the number:67.9\n",
      "number 67.9 is positive number\n"
     ]
    }
   ],
   "source": [
    "number = round(float(input('enter the number:')),2)\n",
    "if number >= 0:\n",
    "   if number == 0:\n",
    "       print('number', number ,'is zero')\n",
    "   else:\n",
    "        print('number', number ,'is positive number')   \n",
    "    \n",
    "else:\n",
    "    print('number', number , 'is negative number')"
   ]
  },
  {
   "cell_type": "markdown",
   "metadata": {},
   "source": [
    "* Write a code to select a batsman. Below given is the criteria\n",
    "* The player should belong to Hyderabad,Bengaluru or Mumbai\n",
    "* Player type should be a batsman\n",
    "* If he is a batsman he should have scored atleast 5 centuries\n"
   ]
  },
  {
   "cell_type": "code",
   "execution_count": 16,
   "metadata": {},
   "outputs": [
    {
     "name": "stdout",
     "output_type": "stream",
     "text": [
      "enter the location:kolkata\n",
      "enter the player type :batsman\n",
      "enter the number of hundreds: 10\n",
      "location not in the list\n"
     ]
    }
   ],
   "source": [
    "location = ['hyderabad','mumbai', 'begaluru']\n",
    "player_location = input('enter the location:')\n",
    "player_type = input('enter the player type :')\n",
    "no_of_hundreds = int(input('enter the number of hundreds: '))\n",
    "\n",
    "\n",
    "if player_location in location:\n",
    "    if player_type.lower() == 'batsmen':\n",
    "        if no_of_hundreds >= 5:\n",
    "                print(\"player is in the squad\")\n",
    "        else:\n",
    "            print('not selected')\n",
    "    else: \n",
    "        print('we need the batsmen')\n",
    "else:\n",
    "    print('location not in the list')"
   ]
  },
  {
   "cell_type": "markdown",
   "metadata": {},
   "source": [
    "# write a program to find the grades of a person\n",
    "- If the scores is greater than equal to  90 , print grade A\n",
    "- If the score is between 80 to 90 then B\n",
    "- 80 to 89\n",
    " "
   ]
  },
  {
   "cell_type": "code",
   "execution_count": 17,
   "metadata": {},
   "outputs": [
    {
     "name": "stdout",
     "output_type": "stream",
     "text": [
      "enter the marks obtained: 85\n",
      "Grade B\n"
     ]
    }
   ],
   "source": [
    "marks = int(float(input('enter the marks obtained: ')))\n",
    "if marks >= 90:\n",
    "    print('Grade A')\n",
    "    \n",
    "elif marks > 80 and marks <= 89:\n",
    "    print('Grade B')\n",
    "    \n",
    "elif marks > 70 and marks <= 79:\n",
    "    print('Grade C')\n",
    "    \n",
    "elif marks > 60 and marks <= 69:\n",
    "    print('Grade D')\n",
    "    \n",
    "else:\n",
    "    print('Grade F')    \n",
    "    \n"
   ]
  },
  {
   "cell_type": "code",
   "execution_count": null,
   "metadata": {},
   "outputs": [],
   "source": []
  },
  {
   "cell_type": "code",
   "execution_count": null,
   "metadata": {},
   "outputs": [],
   "source": []
  },
  {
   "cell_type": "code",
   "execution_count": null,
   "metadata": {},
   "outputs": [],
   "source": []
  }
 ],
 "metadata": {
  "kernelspec": {
   "display_name": "Python 3",
   "language": "python",
   "name": "python3"
  },
  "language_info": {
   "codemirror_mode": {
    "name": "ipython",
    "version": 3
   },
   "file_extension": ".py",
   "mimetype": "text/x-python",
   "name": "python",
   "nbconvert_exporter": "python",
   "pygments_lexer": "ipython3",
   "version": "3.7.6"
  }
 },
 "nbformat": 4,
 "nbformat_minor": 4
}

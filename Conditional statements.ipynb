{
 "cells": [
  {
   "cell_type": "markdown",
   "metadata": {},
   "source": [
    "## Let's assume that there is criteria to unlock the certification\n",
    "- They should have the 70 % of the attendance.\n",
    "- Their score should be more than 300.\n",
    "- If they meet both the criteria then they get merit certificate\n",
    "- Otherwise they get participation certificate."
   ]
  },
  {
   "cell_type": "code",
   "execution_count": null,
   "metadata": {},
   "outputs": [],
   "source": [
    "# First create if else block just interms of the attendance.\n",
    "Attendance = input(int\"Attendance:\")\n"
   ]
  },
  {
   "cell_type": "code",
   "execution_count": null,
   "metadata": {},
   "outputs": [],
   "source": [
    "Attendenance = int(input(\"Enter the Attendenance:\"))\n",
    "scores =  int(input(\"Enter the scores:\"))\n",
    "if Attendence >= 70 and scores > 300:\n",
    "    print(\"You will get Merit Certificate\")\n",
    "else:\n",
    "    print(\"Eligible for paticipation certificate\")\n"
   ]
  },
  {
   "cell_type": "code",
   "execution_count": null,
   "metadata": {},
   "outputs": [],
   "source": []
  },
  {
   "cell_type": "code",
   "execution_count": null,
   "metadata": {},
   "outputs": [],
   "source": []
  }
 ],
 "metadata": {
  "kernelspec": {
   "display_name": "Python 3",
   "language": "python",
   "name": "python3"
  },
  "language_info": {
   "codemirror_mode": {
    "name": "ipython",
    "version": 3
   },
   "file_extension": ".py",
   "mimetype": "text/x-python",
   "name": "python",
   "nbconvert_exporter": "python",
   "pygments_lexer": "ipython3",
   "version": "3.7.6"
  }
 },
 "nbformat": 4,
 "nbformat_minor": 4
}
